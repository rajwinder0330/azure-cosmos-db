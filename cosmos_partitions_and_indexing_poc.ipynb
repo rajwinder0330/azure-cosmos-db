{
 "cells": [
  {
   "cell_type": "code",
   "execution_count": null,
   "metadata": {},
   "outputs": [],
   "source": [
    "\"\"\"\n",
    "Use Case Description : Monitor RUs and performance benefits by partitioning and indexing document properties\n",
    "\n",
    "1. Create a cosmos client\n",
    "2. create a new database\n",
    "\n",
    "\"\"\""
   ]
  },
  {
   "cell_type": "code",
   "execution_count": 2,
   "metadata": {},
   "outputs": [],
   "source": [
    "from azure.cosmos import CosmosClient, exceptions, PartitionKey\n",
    "\n",
    "\n",
    "from azure_cli import getcosmosaccountaccesskey, getcosmosaccounturl"
   ]
  },
  {
   "cell_type": "code",
   "execution_count": 3,
   "metadata": {},
   "outputs": [],
   "source": [
    "#Get the URL and key for the cosmos account\n",
    "\n",
    "cosmosurl = getcosmosaccounturl(\n",
    "    cosmosaccountname='raj-cosmos-2020',\n",
    "    resourcegroup='azurelearning',\n",
    "    subscription='1e6e9ea7-c0f7-4d7c-bae3-1199a177e943'\n",
    "    )\n",
    "\n",
    "accesskey = getcosmosaccountaccesskey(\n",
    "    cosmosaccountname='raj-cosmos-2020',\n",
    "    resourcegroup='azurelearning',\n",
    "    subscription='1e6e9ea7-c0f7-4d7c-bae3-1199a177e943'\n",
    "    )"
   ]
  },
  {
   "cell_type": "code",
   "execution_count": 4,
   "metadata": {},
   "outputs": [],
   "source": [
    "#Create a cosmos client\n",
    "\n",
    "cosmos_client = CosmosClient(url=cosmosurl, credential=accesskey)"
   ]
  },
  {
   "cell_type": "code",
   "execution_count": 32,
   "metadata": {},
   "outputs": [],
   "source": [
    "# Create a new database for this POC by providing initial RUs as 500\n",
    "\n",
    "database_client = cosmos_client.create_database_if_not_exists(id=\"performance_poc\",offer_throughput=500)"
   ]
  },
  {
   "cell_type": "code",
   "execution_count": 13,
   "metadata": {},
   "outputs": [
    {
     "name": "stdout",
     "output_type": "stream",
     "text": [
      "Products\n",
      "performance_poc\n",
      "demodb\n",
      "cosmos-poc\n"
     ]
    }
   ],
   "source": [
    "# verify if database has been created\n",
    "\n",
    "for db in cosmos_client.list_databases():\n",
    "    print(db['id'])"
   ]
  },
  {
   "cell_type": "code",
   "execution_count": 33,
   "metadata": {
    "scrolled": true
   },
   "outputs": [
    {
     "data": {
      "text/plain": [
       "'2'"
      ]
     },
     "execution_count": 33,
     "metadata": {},
     "output_type": "execute_result"
    }
   ],
   "source": [
    "# see the response for the request to create a new database\n",
    "\n",
    "database_client.client_connection.last_response_headers['x-ms-request-charge']"
   ]
  },
  {
   "cell_type": "code",
   "execution_count": 26,
   "metadata": {},
   "outputs": [],
   "source": [
    "# sample json data to be used for this POC\n",
    "\n",
    "poc_data = [\n",
    "\t{\n",
    "\t\t\"id\": \"0001\",\n",
    "\t\t\"type\": \"donut\",\n",
    "\t\t\"name\": \"Cake\",\n",
    "\t\t\"ppu\": 0.55,\n",
    "\t\t\"batters\":\n",
    "\t\t\t{\n",
    "\t\t\t\t\"batter\":\n",
    "\t\t\t\t\t[\n",
    "\t\t\t\t\t\t{ \"id\": \"1001\", \"type\": \"Regular\" },\n",
    "\t\t\t\t\t\t{ \"id\": \"1002\", \"type\": \"Chocolate\" },\n",
    "\t\t\t\t\t\t{ \"id\": \"1003\", \"type\": \"Blueberry\" },\n",
    "\t\t\t\t\t\t{ \"id\": \"1004\", \"type\": \"Devil's Food\" }\n",
    "\t\t\t\t\t]\n",
    "\t\t\t},\n",
    "\t\t\"topping\":\n",
    "\t\t\t[\n",
    "\t\t\t\t{ \"id\": \"5001\", \"type\": \"None\" },\n",
    "\t\t\t\t{ \"id\": \"5002\", \"type\": \"Glazed\" },\n",
    "\t\t\t\t{ \"id\": \"5005\", \"type\": \"Sugar\" },\n",
    "\t\t\t\t{ \"id\": \"5007\", \"type\": \"Powdered Sugar\" },\n",
    "\t\t\t\t{ \"id\": \"5006\", \"type\": \"Chocolate with Sprinkles\" },\n",
    "\t\t\t\t{ \"id\": \"5003\", \"type\": \"Chocolate\" },\n",
    "\t\t\t\t{ \"id\": \"5004\", \"type\": \"Maple\" }\n",
    "\t\t\t]\n",
    "\t},\n",
    "\t{\n",
    "\t\t\"id\": \"0002\",\n",
    "\t\t\"type\": \"donut\",\n",
    "\t\t\"name\": \"Raised\",\n",
    "\t\t\"ppu\": 0.55,\n",
    "\t\t\"batters\":\n",
    "\t\t\t{\n",
    "\t\t\t\t\"batter\":\n",
    "\t\t\t\t\t[\n",
    "\t\t\t\t\t\t{ \"id\": \"1001\", \"type\": \"Regular\" }\n",
    "\t\t\t\t\t]\n",
    "\t\t\t},\n",
    "\t\t\"topping\":\n",
    "\t\t\t[\n",
    "\t\t\t\t{ \"id\": \"5001\", \"type\": \"None\" },\n",
    "\t\t\t\t{ \"id\": \"5002\", \"type\": \"Glazed\" },\n",
    "\t\t\t\t{ \"id\": \"5005\", \"type\": \"Sugar\" },\n",
    "\t\t\t\t{ \"id\": \"5003\", \"type\": \"Chocolate\" },\n",
    "\t\t\t\t{ \"id\": \"5004\", \"type\": \"Maple\" }\n",
    "\t\t\t]\n",
    "\t},\n",
    "\t{\n",
    "\t\t\"id\": \"0003\",\n",
    "\t\t\"type\": \"donut\",\n",
    "\t\t\"name\": \"Old Fashioned\",\n",
    "\t\t\"ppu\": 0.55,\n",
    "\t\t\"batters\":\n",
    "\t\t\t{\n",
    "\t\t\t\t\"batter\":\n",
    "\t\t\t\t\t[\n",
    "\t\t\t\t\t\t{ \"id\": \"1001\", \"type\": \"Regular\" },\n",
    "\t\t\t\t\t\t{ \"id\": \"1002\", \"type\": \"Chocolate\" }\n",
    "\t\t\t\t\t]\n",
    "\t\t\t},\n",
    "\t\t\"topping\":\n",
    "\t\t\t[\n",
    "\t\t\t\t{ \"id\": \"5001\", \"type\": \"None\" },\n",
    "\t\t\t\t{ \"id\": \"5002\", \"type\": \"Glazed\" },\n",
    "\t\t\t\t{ \"id\": \"5003\", \"type\": \"Chocolate\" },\n",
    "\t\t\t\t{ \"id\": \"5004\", \"type\": \"Maple\" }\n",
    "\t\t\t]\n",
    "\t}\n",
    "]"
   ]
  },
  {
   "cell_type": "code",
   "execution_count": null,
   "metadata": {},
   "outputs": [],
   "source": [
    "\"\"\"\n",
    "Lets analyse the data above before creating the container as we need to figure out the right partition key(s)\n",
    "\n",
    "\"\"\""
   ]
  },
  {
   "cell_type": "code",
   "execution_count": 21,
   "metadata": {},
   "outputs": [],
   "source": [
    "# lets start with using the \"id\" column as the partition key\n",
    "partitonkey = PartitionKey(path=\"/id\", kind='hash')"
   ]
  },
  {
   "cell_type": "code",
   "execution_count": 22,
   "metadata": {},
   "outputs": [],
   "source": [
    "# now lets create a container named \"bakery\"\n",
    "container_client = database_client.create_container_if_not_exists(id=\"bakery\", partition_key=partitonkey)"
   ]
  },
  {
   "cell_type": "code",
   "execution_count": 23,
   "metadata": {},
   "outputs": [
    {
     "name": "stdout",
     "output_type": "stream",
     "text": [
      "bakery\n"
     ]
    }
   ],
   "source": [
    "# verify if container has been created\n",
    "\n",
    "for container in database_client.list_containers():\n",
    "    print(container['id'])"
   ]
  },
  {
   "cell_type": "code",
   "execution_count": 28,
   "metadata": {},
   "outputs": [
    {
     "name": "stdout",
     "output_type": "stream",
     "text": [
      "Documents have been populated in collection bakery\n"
     ]
    }
   ],
   "source": [
    "# now lets populate the container with documents from our list \"poc_data\" having json documents\n",
    "# for now , i have not brought indexes in the picture. i'll do it in the next steps\n",
    "\n",
    "for document in poc_data:\n",
    "    #print(document)\n",
    "    container_client.create_item(body=document)\n",
    "print(\"Documents have been populated in collection bakery\")"
   ]
  },
  {
   "cell_type": "code",
   "execution_count": 30,
   "metadata": {},
   "outputs": [
    {
     "name": "stdout",
     "output_type": "stream",
     "text": [
      "Number of RUs used for populating documents is 12.38\n"
     ]
    }
   ],
   "source": [
    "# lets see the number of RUs used for inserting these documents in the collection\n",
    "\n",
    "RUs = container_client.client_connection.last_response_headers['x-ms-request-charge']\n",
    "print(\"Number of RUs used for populating documents is {}\".format(RUs))"
   ]
  },
  {
   "cell_type": "code",
   "execution_count": 40,
   "metadata": {},
   "outputs": [
    {
     "name": "stdout",
     "output_type": "stream",
     "text": [
      "{\n",
      " \"id\": \"0001\",\n",
      " \"type\": \"donut\",\n",
      " \"name\": \"Cake\",\n",
      " \"ppu\": 0.55,\n",
      " \"batters\": {\n",
      "  \"batter\": [\n",
      "   {\n",
      "    \"id\": \"1001\",\n",
      "    \"type\": \"Regular\"\n",
      "   },\n",
      "   {\n",
      "    \"id\": \"1002\",\n",
      "    \"type\": \"Chocolate\"\n",
      "   },\n",
      "   {\n",
      "    \"id\": \"1003\",\n",
      "    \"type\": \"Blueberry\"\n",
      "   },\n",
      "   {\n",
      "    \"id\": \"1004\",\n",
      "    \"type\": \"Devil's Food\"\n",
      "   }\n",
      "  ]\n",
      " },\n",
      " \"topping\": [\n",
      "  {\n",
      "   \"id\": \"5001\",\n",
      "   \"type\": \"None\"\n",
      "  },\n",
      "  {\n",
      "   \"id\": \"5002\",\n",
      "   \"type\": \"Glazed\"\n",
      "  },\n",
      "  {\n",
      "   \"id\": \"5005\",\n",
      "   \"type\": \"Sugar\"\n",
      "  },\n",
      "  {\n",
      "   \"id\": \"5007\",\n",
      "   \"type\": \"Powdered Sugar\"\n",
      "  },\n",
      "  {\n",
      "   \"id\": \"5006\",\n",
      "   \"type\": \"Chocolate with Sprinkles\"\n",
      "  },\n",
      "  {\n",
      "   \"id\": \"5003\",\n",
      "   \"type\": \"Chocolate\"\n",
      "  },\n",
      "  {\n",
      "   \"id\": \"5004\",\n",
      "   \"type\": \"Maple\"\n",
      "  }\n",
      " ],\n",
      " \"_rid\": \"YMQ3AI3g9zwBAAAAAAAAAA==\",\n",
      " \"_self\": \"dbs/YMQ3AA==/colls/YMQ3AI3g9zw=/docs/YMQ3AI3g9zwBAAAAAAAAAA==/\",\n",
      " \"_etag\": \"\\\"d700583c-0000-0100-0000-5fe2399c0000\\\"\",\n",
      " \"_attachments\": \"attachments/\",\n",
      " \"_ts\": 1608661404\n",
      "}\n"
     ]
    }
   ],
   "source": [
    "# Lets try quering the collection\n",
    "\n",
    "\"\"\"Here i m trying to retrieve the document against a particular id. since the partition key is /id, \n",
    "so ideally this request must be going to a single partition\"\"\"\n",
    "\n",
    "import json\n",
    "\n",
    "sqlquery = \"select * from bakery b where b.id='0001'\"\n",
    "for item in container_client.query_items(query=sqlquery, max_item_count=2):\n",
    "    print(json.dumps(item, indent=True))\n"
   ]
  },
  {
   "cell_type": "code",
   "execution_count": 41,
   "metadata": {},
   "outputs": [
    {
     "data": {
      "text/plain": [
       "'2.83'"
      ]
     },
     "execution_count": 41,
     "metadata": {},
     "output_type": "execute_result"
    }
   ],
   "source": [
    "# Find the request units for retreiving one document as per the above step\n",
    "\n",
    "container_client.client_connection.last_response_headers['x-ms-request-charge']"
   ]
  },
  {
   "cell_type": "code",
   "execution_count": 42,
   "metadata": {},
   "outputs": [
    {
     "ename": "CosmosHttpResponseError",
     "evalue": "(BadRequest) Cross partition query is required but disabled. Please set x-ms-documentdb-query-enablecrosspartition to true, specify x-ms-documentdb-partitionkey, or revise your query to avoid this exception.\r\nActivityId: c5afcaab-2af8-4802-86d2-3d80c93aa958, Microsoft.Azure.Documents.Common/2.11.0",
     "output_type": "error",
     "traceback": [
      "\u001b[1;31m---------------------------------------------------------------------------\u001b[0m",
      "\u001b[1;31mCosmosHttpResponseError\u001b[0m                   Traceback (most recent call last)",
      "\u001b[1;32m<ipython-input-42-4962191a279e>\u001b[0m in \u001b[0;36m<module>\u001b[1;34m\u001b[0m\n\u001b[0;32m      7\u001b[0m \u001b[1;33m\u001b[0m\u001b[0m\n\u001b[0;32m      8\u001b[0m \u001b[0msqlquery\u001b[0m \u001b[1;33m=\u001b[0m \u001b[1;34m\"select * from bakery b where b.id in ('0001','0002')\"\u001b[0m\u001b[1;33m\u001b[0m\u001b[1;33m\u001b[0m\u001b[0m\n\u001b[1;32m----> 9\u001b[1;33m \u001b[1;32mfor\u001b[0m \u001b[0mitem\u001b[0m \u001b[1;32min\u001b[0m \u001b[0mcontainer_client\u001b[0m\u001b[1;33m.\u001b[0m\u001b[0mquery_items\u001b[0m\u001b[1;33m(\u001b[0m\u001b[0mquery\u001b[0m\u001b[1;33m=\u001b[0m\u001b[0msqlquery\u001b[0m\u001b[1;33m,\u001b[0m \u001b[0mmax_item_count\u001b[0m\u001b[1;33m=\u001b[0m\u001b[1;36m2\u001b[0m\u001b[1;33m)\u001b[0m\u001b[1;33m:\u001b[0m\u001b[1;33m\u001b[0m\u001b[1;33m\u001b[0m\u001b[0m\n\u001b[0m\u001b[0;32m     10\u001b[0m     \u001b[0mprint\u001b[0m\u001b[1;33m(\u001b[0m\u001b[0mjson\u001b[0m\u001b[1;33m.\u001b[0m\u001b[0mdumps\u001b[0m\u001b[1;33m(\u001b[0m\u001b[0mitem\u001b[0m\u001b[1;33m,\u001b[0m \u001b[0mindent\u001b[0m\u001b[1;33m=\u001b[0m\u001b[1;32mTrue\u001b[0m\u001b[1;33m)\u001b[0m\u001b[1;33m)\u001b[0m\u001b[1;33m\u001b[0m\u001b[1;33m\u001b[0m\u001b[0m\n",
      "\u001b[1;32m~\\anaconda3\\lib\\site-packages\\azure\\core\\paging.py\u001b[0m in \u001b[0;36m__next__\u001b[1;34m(self)\u001b[0m\n\u001b[0;32m    127\u001b[0m         \u001b[1;32mif\u001b[0m \u001b[0mself\u001b[0m\u001b[1;33m.\u001b[0m\u001b[0m_page_iterator\u001b[0m \u001b[1;32mis\u001b[0m \u001b[1;32mNone\u001b[0m\u001b[1;33m:\u001b[0m\u001b[1;33m\u001b[0m\u001b[1;33m\u001b[0m\u001b[0m\n\u001b[0;32m    128\u001b[0m             \u001b[0mself\u001b[0m\u001b[1;33m.\u001b[0m\u001b[0m_page_iterator\u001b[0m \u001b[1;33m=\u001b[0m \u001b[0mitertools\u001b[0m\u001b[1;33m.\u001b[0m\u001b[0mchain\u001b[0m\u001b[1;33m.\u001b[0m\u001b[0mfrom_iterable\u001b[0m\u001b[1;33m(\u001b[0m\u001b[0mself\u001b[0m\u001b[1;33m.\u001b[0m\u001b[0mby_page\u001b[0m\u001b[1;33m(\u001b[0m\u001b[1;33m)\u001b[0m\u001b[1;33m)\u001b[0m\u001b[1;33m\u001b[0m\u001b[1;33m\u001b[0m\u001b[0m\n\u001b[1;32m--> 129\u001b[1;33m         \u001b[1;32mreturn\u001b[0m \u001b[0mnext\u001b[0m\u001b[1;33m(\u001b[0m\u001b[0mself\u001b[0m\u001b[1;33m.\u001b[0m\u001b[0m_page_iterator\u001b[0m\u001b[1;33m)\u001b[0m\u001b[1;33m\u001b[0m\u001b[1;33m\u001b[0m\u001b[0m\n\u001b[0m\u001b[0;32m    130\u001b[0m \u001b[1;33m\u001b[0m\u001b[0m\n\u001b[0;32m    131\u001b[0m     \u001b[0mnext\u001b[0m \u001b[1;33m=\u001b[0m \u001b[0m__next__\u001b[0m  \u001b[1;31m# Python 2 compatibility.\u001b[0m\u001b[1;33m\u001b[0m\u001b[1;33m\u001b[0m\u001b[0m\n",
      "\u001b[1;32m~\\anaconda3\\lib\\site-packages\\azure\\core\\paging.py\u001b[0m in \u001b[0;36m__next__\u001b[1;34m(self)\u001b[0m\n\u001b[0;32m     74\u001b[0m             \u001b[1;32mraise\u001b[0m \u001b[0mStopIteration\u001b[0m\u001b[1;33m(\u001b[0m\u001b[1;34m\"End of paging\"\u001b[0m\u001b[1;33m)\u001b[0m\u001b[1;33m\u001b[0m\u001b[1;33m\u001b[0m\u001b[0m\n\u001b[0;32m     75\u001b[0m         \u001b[1;32mtry\u001b[0m\u001b[1;33m:\u001b[0m\u001b[1;33m\u001b[0m\u001b[1;33m\u001b[0m\u001b[0m\n\u001b[1;32m---> 76\u001b[1;33m             \u001b[0mself\u001b[0m\u001b[1;33m.\u001b[0m\u001b[0m_response\u001b[0m \u001b[1;33m=\u001b[0m \u001b[0mself\u001b[0m\u001b[1;33m.\u001b[0m\u001b[0m_get_next\u001b[0m\u001b[1;33m(\u001b[0m\u001b[0mself\u001b[0m\u001b[1;33m.\u001b[0m\u001b[0mcontinuation_token\u001b[0m\u001b[1;33m)\u001b[0m\u001b[1;33m\u001b[0m\u001b[1;33m\u001b[0m\u001b[0m\n\u001b[0m\u001b[0;32m     77\u001b[0m         \u001b[1;32mexcept\u001b[0m \u001b[0mAzureError\u001b[0m \u001b[1;32mas\u001b[0m \u001b[0merror\u001b[0m\u001b[1;33m:\u001b[0m\u001b[1;33m\u001b[0m\u001b[1;33m\u001b[0m\u001b[0m\n\u001b[0;32m     78\u001b[0m             \u001b[1;32mif\u001b[0m \u001b[1;32mnot\u001b[0m \u001b[0merror\u001b[0m\u001b[1;33m.\u001b[0m\u001b[0mcontinuation_token\u001b[0m\u001b[1;33m:\u001b[0m\u001b[1;33m\u001b[0m\u001b[1;33m\u001b[0m\u001b[0m\n",
      "\u001b[1;32m~\\anaconda3\\lib\\site-packages\\azure\\cosmos\\_query_iterable.py\u001b[0m in \u001b[0;36m_fetch_next\u001b[1;34m(self, *args)\u001b[0m\n\u001b[0;32m     96\u001b[0m         \u001b[1;33m:\u001b[0m\u001b[0mrtype\u001b[0m\u001b[1;33m:\u001b[0m \u001b[0mlist\u001b[0m\u001b[1;33m\u001b[0m\u001b[1;33m\u001b[0m\u001b[0m\n\u001b[0;32m     97\u001b[0m         \"\"\"\n\u001b[1;32m---> 98\u001b[1;33m         \u001b[0mblock\u001b[0m \u001b[1;33m=\u001b[0m \u001b[0mself\u001b[0m\u001b[1;33m.\u001b[0m\u001b[0m_ex_context\u001b[0m\u001b[1;33m.\u001b[0m\u001b[0mfetch_next_block\u001b[0m\u001b[1;33m(\u001b[0m\u001b[1;33m)\u001b[0m\u001b[1;33m\u001b[0m\u001b[1;33m\u001b[0m\u001b[0m\n\u001b[0m\u001b[0;32m     99\u001b[0m         \u001b[1;32mif\u001b[0m \u001b[1;32mnot\u001b[0m \u001b[0mblock\u001b[0m\u001b[1;33m:\u001b[0m\u001b[1;33m\u001b[0m\u001b[1;33m\u001b[0m\u001b[0m\n\u001b[0;32m    100\u001b[0m             \u001b[1;32mraise\u001b[0m \u001b[0mStopIteration\u001b[0m\u001b[1;33m\u001b[0m\u001b[1;33m\u001b[0m\u001b[0m\n",
      "\u001b[1;32m~\\anaconda3\\lib\\site-packages\\azure\\cosmos\\_execution_context\\execution_dispatcher.py\u001b[0m in \u001b[0;36mfetch_next_block\u001b[1;34m(self)\u001b[0m\n\u001b[0;32m    108\u001b[0m                 \u001b[0mself\u001b[0m\u001b[1;33m.\u001b[0m\u001b[0m_execution_context\u001b[0m \u001b[1;33m=\u001b[0m \u001b[0mself\u001b[0m\u001b[1;33m.\u001b[0m\u001b[0m_create_pipelined_execution_context\u001b[0m\u001b[1;33m(\u001b[0m\u001b[0mquery_execution_info\u001b[0m\u001b[1;33m)\u001b[0m\u001b[1;33m\u001b[0m\u001b[1;33m\u001b[0m\u001b[0m\n\u001b[0;32m    109\u001b[0m             \u001b[1;32melse\u001b[0m\u001b[1;33m:\u001b[0m\u001b[1;33m\u001b[0m\u001b[1;33m\u001b[0m\u001b[0m\n\u001b[1;32m--> 110\u001b[1;33m                 \u001b[1;32mraise\u001b[0m \u001b[0me\u001b[0m\u001b[1;33m\u001b[0m\u001b[1;33m\u001b[0m\u001b[0m\n\u001b[0m\u001b[0;32m    111\u001b[0m \u001b[1;33m\u001b[0m\u001b[0m\n\u001b[0;32m    112\u001b[0m         \u001b[1;32mreturn\u001b[0m \u001b[0mself\u001b[0m\u001b[1;33m.\u001b[0m\u001b[0m_execution_context\u001b[0m\u001b[1;33m.\u001b[0m\u001b[0mfetch_next_block\u001b[0m\u001b[1;33m(\u001b[0m\u001b[1;33m)\u001b[0m\u001b[1;33m\u001b[0m\u001b[1;33m\u001b[0m\u001b[0m\n",
      "\u001b[1;32m~\\anaconda3\\lib\\site-packages\\azure\\cosmos\\_execution_context\\execution_dispatcher.py\u001b[0m in \u001b[0;36mfetch_next_block\u001b[1;34m(self)\u001b[0m\n\u001b[0;32m    100\u001b[0m         \"\"\"\n\u001b[0;32m    101\u001b[0m         \u001b[1;32mtry\u001b[0m\u001b[1;33m:\u001b[0m\u001b[1;33m\u001b[0m\u001b[1;33m\u001b[0m\u001b[0m\n\u001b[1;32m--> 102\u001b[1;33m             \u001b[1;32mreturn\u001b[0m \u001b[0mself\u001b[0m\u001b[1;33m.\u001b[0m\u001b[0m_execution_context\u001b[0m\u001b[1;33m.\u001b[0m\u001b[0mfetch_next_block\u001b[0m\u001b[1;33m(\u001b[0m\u001b[1;33m)\u001b[0m\u001b[1;33m\u001b[0m\u001b[1;33m\u001b[0m\u001b[0m\n\u001b[0m\u001b[0;32m    103\u001b[0m         \u001b[1;32mexcept\u001b[0m \u001b[0mCosmosHttpResponseError\u001b[0m \u001b[1;32mas\u001b[0m \u001b[0me\u001b[0m\u001b[1;33m:\u001b[0m\u001b[1;33m\u001b[0m\u001b[1;33m\u001b[0m\u001b[0m\n\u001b[0;32m    104\u001b[0m             \u001b[1;32mif\u001b[0m \u001b[0m_is_partitioned_execution_info\u001b[0m\u001b[1;33m(\u001b[0m\u001b[0me\u001b[0m\u001b[1;33m)\u001b[0m\u001b[1;33m:\u001b[0m\u001b[1;33m\u001b[0m\u001b[1;33m\u001b[0m\u001b[0m\n",
      "\u001b[1;32m~\\anaconda3\\lib\\site-packages\\azure\\cosmos\\_execution_context\\base_execution_context.py\u001b[0m in \u001b[0;36mfetch_next_block\u001b[1;34m(self)\u001b[0m\n\u001b[0;32m     79\u001b[0m \u001b[1;33m\u001b[0m\u001b[0m\n\u001b[0;32m     80\u001b[0m         \u001b[1;31m# fetches the next block\u001b[0m\u001b[1;33m\u001b[0m\u001b[1;33m\u001b[0m\u001b[1;33m\u001b[0m\u001b[0m\n\u001b[1;32m---> 81\u001b[1;33m         \u001b[1;32mreturn\u001b[0m \u001b[0mself\u001b[0m\u001b[1;33m.\u001b[0m\u001b[0m_fetch_next_block\u001b[0m\u001b[1;33m(\u001b[0m\u001b[1;33m)\u001b[0m\u001b[1;33m\u001b[0m\u001b[1;33m\u001b[0m\u001b[0m\n\u001b[0m\u001b[0;32m     82\u001b[0m \u001b[1;33m\u001b[0m\u001b[0m\n\u001b[0;32m     83\u001b[0m     \u001b[1;32mdef\u001b[0m \u001b[0m_fetch_next_block\u001b[0m\u001b[1;33m(\u001b[0m\u001b[0mself\u001b[0m\u001b[1;33m)\u001b[0m\u001b[1;33m:\u001b[0m\u001b[1;33m\u001b[0m\u001b[1;33m\u001b[0m\u001b[0m\n",
      "\u001b[1;32m~\\anaconda3\\lib\\site-packages\\azure\\cosmos\\_execution_context\\base_execution_context.py\u001b[0m in \u001b[0;36m_fetch_next_block\u001b[1;34m(self)\u001b[0m\n\u001b[0;32m    168\u001b[0m     \u001b[1;32mdef\u001b[0m \u001b[0m_fetch_next_block\u001b[0m\u001b[1;33m(\u001b[0m\u001b[0mself\u001b[0m\u001b[1;33m)\u001b[0m\u001b[1;33m:\u001b[0m\u001b[1;33m\u001b[0m\u001b[1;33m\u001b[0m\u001b[0m\n\u001b[0;32m    169\u001b[0m         \u001b[1;32mwhile\u001b[0m \u001b[0msuper\u001b[0m\u001b[1;33m(\u001b[0m\u001b[0m_DefaultQueryExecutionContext\u001b[0m\u001b[1;33m,\u001b[0m \u001b[0mself\u001b[0m\u001b[1;33m)\u001b[0m\u001b[1;33m.\u001b[0m\u001b[0m_has_more_pages\u001b[0m\u001b[1;33m(\u001b[0m\u001b[1;33m)\u001b[0m \u001b[1;32mand\u001b[0m \u001b[1;32mnot\u001b[0m \u001b[0mself\u001b[0m\u001b[1;33m.\u001b[0m\u001b[0m_buffer\u001b[0m\u001b[1;33m:\u001b[0m\u001b[1;33m\u001b[0m\u001b[1;33m\u001b[0m\u001b[0m\n\u001b[1;32m--> 170\u001b[1;33m             \u001b[1;32mreturn\u001b[0m \u001b[0mself\u001b[0m\u001b[1;33m.\u001b[0m\u001b[0m_fetch_items_helper_with_retries\u001b[0m\u001b[1;33m(\u001b[0m\u001b[0mself\u001b[0m\u001b[1;33m.\u001b[0m\u001b[0m_fetch_function\u001b[0m\u001b[1;33m)\u001b[0m\u001b[1;33m\u001b[0m\u001b[1;33m\u001b[0m\u001b[0m\n\u001b[0m",
      "\u001b[1;32m~\\anaconda3\\lib\\site-packages\\azure\\cosmos\\_execution_context\\base_execution_context.py\u001b[0m in \u001b[0;36m_fetch_items_helper_with_retries\u001b[1;34m(self, fetch_function)\u001b[0m\n\u001b[0;32m    140\u001b[0m             \u001b[1;32mreturn\u001b[0m \u001b[0mself\u001b[0m\u001b[1;33m.\u001b[0m\u001b[0m_fetch_items_helper_no_retries\u001b[0m\u001b[1;33m(\u001b[0m\u001b[0mfetch_function\u001b[0m\u001b[1;33m)\u001b[0m\u001b[1;33m\u001b[0m\u001b[1;33m\u001b[0m\u001b[0m\n\u001b[0;32m    141\u001b[0m \u001b[1;33m\u001b[0m\u001b[0m\n\u001b[1;32m--> 142\u001b[1;33m         \u001b[1;32mreturn\u001b[0m \u001b[0m_retry_utility\u001b[0m\u001b[1;33m.\u001b[0m\u001b[0mExecute\u001b[0m\u001b[1;33m(\u001b[0m\u001b[0mself\u001b[0m\u001b[1;33m.\u001b[0m\u001b[0m_client\u001b[0m\u001b[1;33m,\u001b[0m \u001b[0mself\u001b[0m\u001b[1;33m.\u001b[0m\u001b[0m_client\u001b[0m\u001b[1;33m.\u001b[0m\u001b[0m_global_endpoint_manager\u001b[0m\u001b[1;33m,\u001b[0m \u001b[0mcallback\u001b[0m\u001b[1;33m)\u001b[0m\u001b[1;33m\u001b[0m\u001b[1;33m\u001b[0m\u001b[0m\n\u001b[0m\u001b[0;32m    143\u001b[0m \u001b[1;33m\u001b[0m\u001b[0m\n\u001b[0;32m    144\u001b[0m     \u001b[0mnext\u001b[0m \u001b[1;33m=\u001b[0m \u001b[0m__next__\u001b[0m  \u001b[1;31m# Python 2 compatibility.\u001b[0m\u001b[1;33m\u001b[0m\u001b[1;33m\u001b[0m\u001b[0m\n",
      "\u001b[1;32m~\\anaconda3\\lib\\site-packages\\azure\\cosmos\\_retry_utility.py\u001b[0m in \u001b[0;36mExecute\u001b[1;34m(client, global_endpoint_manager, function, *args, **kwargs)\u001b[0m\n\u001b[0;32m     73\u001b[0m                 \u001b[0mresult\u001b[0m \u001b[1;33m=\u001b[0m \u001b[0mExecuteFunction\u001b[0m\u001b[1;33m(\u001b[0m\u001b[0mfunction\u001b[0m\u001b[1;33m,\u001b[0m \u001b[0mglobal_endpoint_manager\u001b[0m\u001b[1;33m,\u001b[0m \u001b[1;33m*\u001b[0m\u001b[0margs\u001b[0m\u001b[1;33m,\u001b[0m \u001b[1;33m**\u001b[0m\u001b[0mkwargs\u001b[0m\u001b[1;33m)\u001b[0m\u001b[1;33m\u001b[0m\u001b[1;33m\u001b[0m\u001b[0m\n\u001b[0;32m     74\u001b[0m             \u001b[1;32melse\u001b[0m\u001b[1;33m:\u001b[0m\u001b[1;33m\u001b[0m\u001b[1;33m\u001b[0m\u001b[0m\n\u001b[1;32m---> 75\u001b[1;33m                 \u001b[0mresult\u001b[0m \u001b[1;33m=\u001b[0m \u001b[0mExecuteFunction\u001b[0m\u001b[1;33m(\u001b[0m\u001b[0mfunction\u001b[0m\u001b[1;33m,\u001b[0m \u001b[1;33m*\u001b[0m\u001b[0margs\u001b[0m\u001b[1;33m,\u001b[0m \u001b[1;33m**\u001b[0m\u001b[0mkwargs\u001b[0m\u001b[1;33m)\u001b[0m\u001b[1;33m\u001b[0m\u001b[1;33m\u001b[0m\u001b[0m\n\u001b[0m\u001b[0;32m     76\u001b[0m             \u001b[1;32mif\u001b[0m \u001b[1;32mnot\u001b[0m \u001b[0mclient\u001b[0m\u001b[1;33m.\u001b[0m\u001b[0mlast_response_headers\u001b[0m\u001b[1;33m:\u001b[0m\u001b[1;33m\u001b[0m\u001b[1;33m\u001b[0m\u001b[0m\n\u001b[0;32m     77\u001b[0m                 \u001b[0mclient\u001b[0m\u001b[1;33m.\u001b[0m\u001b[0mlast_response_headers\u001b[0m \u001b[1;33m=\u001b[0m \u001b[1;33m{\u001b[0m\u001b[1;33m}\u001b[0m\u001b[1;33m\u001b[0m\u001b[1;33m\u001b[0m\u001b[0m\n",
      "\u001b[1;32m~\\anaconda3\\lib\\site-packages\\azure\\cosmos\\_retry_utility.py\u001b[0m in \u001b[0;36mExecuteFunction\u001b[1;34m(function, *args, **kwargs)\u001b[0m\n\u001b[0;32m    128\u001b[0m     \"\"\"Stub method so that it can be used for mocking purposes as well.\n\u001b[0;32m    129\u001b[0m     \"\"\"\n\u001b[1;32m--> 130\u001b[1;33m     \u001b[1;32mreturn\u001b[0m \u001b[0mfunction\u001b[0m\u001b[1;33m(\u001b[0m\u001b[1;33m*\u001b[0m\u001b[0margs\u001b[0m\u001b[1;33m,\u001b[0m \u001b[1;33m**\u001b[0m\u001b[0mkwargs\u001b[0m\u001b[1;33m)\u001b[0m\u001b[1;33m\u001b[0m\u001b[1;33m\u001b[0m\u001b[0m\n\u001b[0m\u001b[0;32m    131\u001b[0m \u001b[1;33m\u001b[0m\u001b[0m\n\u001b[0;32m    132\u001b[0m \u001b[1;33m\u001b[0m\u001b[0m\n",
      "\u001b[1;32m~\\anaconda3\\lib\\site-packages\\azure\\cosmos\\_execution_context\\base_execution_context.py\u001b[0m in \u001b[0;36mcallback\u001b[1;34m()\u001b[0m\n\u001b[0;32m    138\u001b[0m     \u001b[1;32mdef\u001b[0m \u001b[0m_fetch_items_helper_with_retries\u001b[0m\u001b[1;33m(\u001b[0m\u001b[0mself\u001b[0m\u001b[1;33m,\u001b[0m \u001b[0mfetch_function\u001b[0m\u001b[1;33m)\u001b[0m\u001b[1;33m:\u001b[0m\u001b[1;33m\u001b[0m\u001b[1;33m\u001b[0m\u001b[0m\n\u001b[0;32m    139\u001b[0m         \u001b[1;32mdef\u001b[0m \u001b[0mcallback\u001b[0m\u001b[1;33m(\u001b[0m\u001b[1;33m)\u001b[0m\u001b[1;33m:\u001b[0m\u001b[1;33m\u001b[0m\u001b[1;33m\u001b[0m\u001b[0m\n\u001b[1;32m--> 140\u001b[1;33m             \u001b[1;32mreturn\u001b[0m \u001b[0mself\u001b[0m\u001b[1;33m.\u001b[0m\u001b[0m_fetch_items_helper_no_retries\u001b[0m\u001b[1;33m(\u001b[0m\u001b[0mfetch_function\u001b[0m\u001b[1;33m)\u001b[0m\u001b[1;33m\u001b[0m\u001b[1;33m\u001b[0m\u001b[0m\n\u001b[0m\u001b[0;32m    141\u001b[0m \u001b[1;33m\u001b[0m\u001b[0m\n\u001b[0;32m    142\u001b[0m         \u001b[1;32mreturn\u001b[0m \u001b[0m_retry_utility\u001b[0m\u001b[1;33m.\u001b[0m\u001b[0mExecute\u001b[0m\u001b[1;33m(\u001b[0m\u001b[0mself\u001b[0m\u001b[1;33m.\u001b[0m\u001b[0m_client\u001b[0m\u001b[1;33m,\u001b[0m \u001b[0mself\u001b[0m\u001b[1;33m.\u001b[0m\u001b[0m_client\u001b[0m\u001b[1;33m.\u001b[0m\u001b[0m_global_endpoint_manager\u001b[0m\u001b[1;33m,\u001b[0m \u001b[0mcallback\u001b[0m\u001b[1;33m)\u001b[0m\u001b[1;33m\u001b[0m\u001b[1;33m\u001b[0m\u001b[0m\n",
      "\u001b[1;32m~\\anaconda3\\lib\\site-packages\\azure\\cosmos\\_execution_context\\base_execution_context.py\u001b[0m in \u001b[0;36m_fetch_items_helper_no_retries\u001b[1;34m(self, fetch_function)\u001b[0m\n\u001b[0;32m    121\u001b[0m             \u001b[0mnew_options\u001b[0m \u001b[1;33m=\u001b[0m \u001b[0mcopy\u001b[0m\u001b[1;33m.\u001b[0m\u001b[0mdeepcopy\u001b[0m\u001b[1;33m(\u001b[0m\u001b[0mself\u001b[0m\u001b[1;33m.\u001b[0m\u001b[0m_options\u001b[0m\u001b[1;33m)\u001b[0m\u001b[1;33m\u001b[0m\u001b[1;33m\u001b[0m\u001b[0m\n\u001b[0;32m    122\u001b[0m             \u001b[0mnew_options\u001b[0m\u001b[1;33m[\u001b[0m\u001b[1;34m\"continuation\"\u001b[0m\u001b[1;33m]\u001b[0m \u001b[1;33m=\u001b[0m \u001b[0mself\u001b[0m\u001b[1;33m.\u001b[0m\u001b[0m_continuation\u001b[0m\u001b[1;33m\u001b[0m\u001b[1;33m\u001b[0m\u001b[0m\n\u001b[1;32m--> 123\u001b[1;33m             \u001b[1;33m(\u001b[0m\u001b[0mfetched_items\u001b[0m\u001b[1;33m,\u001b[0m \u001b[0mresponse_headers\u001b[0m\u001b[1;33m)\u001b[0m \u001b[1;33m=\u001b[0m \u001b[0mfetch_function\u001b[0m\u001b[1;33m(\u001b[0m\u001b[0mnew_options\u001b[0m\u001b[1;33m)\u001b[0m\u001b[1;33m\u001b[0m\u001b[1;33m\u001b[0m\u001b[0m\n\u001b[0m\u001b[0;32m    124\u001b[0m             \u001b[0mcontinuation_key\u001b[0m \u001b[1;33m=\u001b[0m \u001b[0mhttp_constants\u001b[0m\u001b[1;33m.\u001b[0m\u001b[0mHttpHeaders\u001b[0m\u001b[1;33m.\u001b[0m\u001b[0mContinuation\u001b[0m\u001b[1;33m\u001b[0m\u001b[1;33m\u001b[0m\u001b[0m\n\u001b[0;32m    125\u001b[0m             \u001b[1;31m# Use Etag as continuation token for change feed queries.\u001b[0m\u001b[1;33m\u001b[0m\u001b[1;33m\u001b[0m\u001b[1;33m\u001b[0m\u001b[0m\n",
      "\u001b[1;32m~\\anaconda3\\lib\\site-packages\\azure\\cosmos\\_cosmos_client_connection.py\u001b[0m in \u001b[0;36mfetch_fn\u001b[1;34m(options)\u001b[0m\n\u001b[0;32m    887\u001b[0m         \u001b[1;32mdef\u001b[0m \u001b[0mfetch_fn\u001b[0m\u001b[1;33m(\u001b[0m\u001b[0moptions\u001b[0m\u001b[1;33m)\u001b[0m\u001b[1;33m:\u001b[0m\u001b[1;33m\u001b[0m\u001b[1;33m\u001b[0m\u001b[0m\n\u001b[0;32m    888\u001b[0m             return (\n\u001b[1;32m--> 889\u001b[1;33m                 self.__QueryFeed(\n\u001b[0m\u001b[0;32m    890\u001b[0m                     \u001b[0mpath\u001b[0m\u001b[1;33m,\u001b[0m\u001b[1;33m\u001b[0m\u001b[1;33m\u001b[0m\u001b[0m\n\u001b[0;32m    891\u001b[0m                     \u001b[1;34m\"docs\"\u001b[0m\u001b[1;33m,\u001b[0m\u001b[1;33m\u001b[0m\u001b[1;33m\u001b[0m\u001b[0m\n",
      "\u001b[1;32m~\\anaconda3\\lib\\site-packages\\azure\\cosmos\\_cosmos_client_connection.py\u001b[0m in \u001b[0;36m__QueryFeed\u001b[1;34m(self, path, typ, id_, result_fn, create_fn, query, options, partition_key_range_id, response_hook, is_query_plan, **kwargs)\u001b[0m\n\u001b[0;32m   2407\u001b[0m         \u001b[0mrequest_params\u001b[0m \u001b[1;33m=\u001b[0m \u001b[0m_request_object\u001b[0m\u001b[1;33m.\u001b[0m\u001b[0mRequestObject\u001b[0m\u001b[1;33m(\u001b[0m\u001b[0mtyp\u001b[0m\u001b[1;33m,\u001b[0m \u001b[0mdocuments\u001b[0m\u001b[1;33m.\u001b[0m\u001b[0m_OperationType\u001b[0m\u001b[1;33m.\u001b[0m\u001b[0mSqlQuery\u001b[0m\u001b[1;33m)\u001b[0m\u001b[1;33m\u001b[0m\u001b[1;33m\u001b[0m\u001b[0m\n\u001b[0;32m   2408\u001b[0m         \u001b[0mreq_headers\u001b[0m \u001b[1;33m=\u001b[0m \u001b[0mbase\u001b[0m\u001b[1;33m.\u001b[0m\u001b[0mGetHeaders\u001b[0m\u001b[1;33m(\u001b[0m\u001b[0mself\u001b[0m\u001b[1;33m,\u001b[0m \u001b[0minitial_headers\u001b[0m\u001b[1;33m,\u001b[0m \u001b[1;34m\"post\"\u001b[0m\u001b[1;33m,\u001b[0m \u001b[0mpath\u001b[0m\u001b[1;33m,\u001b[0m \u001b[0mid_\u001b[0m\u001b[1;33m,\u001b[0m \u001b[0mtyp\u001b[0m\u001b[1;33m,\u001b[0m \u001b[0moptions\u001b[0m\u001b[1;33m,\u001b[0m \u001b[0mpartition_key_range_id\u001b[0m\u001b[1;33m)\u001b[0m\u001b[1;33m\u001b[0m\u001b[1;33m\u001b[0m\u001b[0m\n\u001b[1;32m-> 2409\u001b[1;33m         \u001b[0mresult\u001b[0m\u001b[1;33m,\u001b[0m \u001b[0mself\u001b[0m\u001b[1;33m.\u001b[0m\u001b[0mlast_response_headers\u001b[0m \u001b[1;33m=\u001b[0m \u001b[0mself\u001b[0m\u001b[1;33m.\u001b[0m\u001b[0m__Post\u001b[0m\u001b[1;33m(\u001b[0m\u001b[0mpath\u001b[0m\u001b[1;33m,\u001b[0m \u001b[0mrequest_params\u001b[0m\u001b[1;33m,\u001b[0m \u001b[0mquery\u001b[0m\u001b[1;33m,\u001b[0m \u001b[0mreq_headers\u001b[0m\u001b[1;33m,\u001b[0m \u001b[1;33m**\u001b[0m\u001b[0mkwargs\u001b[0m\u001b[1;33m)\u001b[0m\u001b[1;33m\u001b[0m\u001b[1;33m\u001b[0m\u001b[0m\n\u001b[0m\u001b[0;32m   2410\u001b[0m \u001b[1;33m\u001b[0m\u001b[0m\n\u001b[0;32m   2411\u001b[0m         \u001b[1;32mif\u001b[0m \u001b[0mresponse_hook\u001b[0m\u001b[1;33m:\u001b[0m\u001b[1;33m\u001b[0m\u001b[1;33m\u001b[0m\u001b[0m\n",
      "\u001b[1;32m~\\anaconda3\\lib\\site-packages\\azure\\cosmos\\_cosmos_client_connection.py\u001b[0m in \u001b[0;36m__Post\u001b[1;34m(self, path, request_params, body, req_headers, **kwargs)\u001b[0m\n\u001b[0;32m   2233\u001b[0m         \"\"\"\n\u001b[0;32m   2234\u001b[0m         \u001b[0mrequest\u001b[0m \u001b[1;33m=\u001b[0m \u001b[0mself\u001b[0m\u001b[1;33m.\u001b[0m\u001b[0mpipeline_client\u001b[0m\u001b[1;33m.\u001b[0m\u001b[0mpost\u001b[0m\u001b[1;33m(\u001b[0m\u001b[0murl\u001b[0m\u001b[1;33m=\u001b[0m\u001b[0mpath\u001b[0m\u001b[1;33m,\u001b[0m \u001b[0mheaders\u001b[0m\u001b[1;33m=\u001b[0m\u001b[0mreq_headers\u001b[0m\u001b[1;33m)\u001b[0m\u001b[1;33m\u001b[0m\u001b[1;33m\u001b[0m\u001b[0m\n\u001b[1;32m-> 2235\u001b[1;33m         return synchronized_request.SynchronizedRequest(\n\u001b[0m\u001b[0;32m   2236\u001b[0m             \u001b[0mclient\u001b[0m\u001b[1;33m=\u001b[0m\u001b[0mself\u001b[0m\u001b[1;33m,\u001b[0m\u001b[1;33m\u001b[0m\u001b[1;33m\u001b[0m\u001b[0m\n\u001b[0;32m   2237\u001b[0m             \u001b[0mrequest_params\u001b[0m\u001b[1;33m=\u001b[0m\u001b[0mrequest_params\u001b[0m\u001b[1;33m,\u001b[0m\u001b[1;33m\u001b[0m\u001b[1;33m\u001b[0m\u001b[0m\n",
      "\u001b[1;32m~\\anaconda3\\lib\\site-packages\\azure\\cosmos\\_synchronized_request.py\u001b[0m in \u001b[0;36mSynchronizedRequest\u001b[1;34m(client, request_params, global_endpoint_manager, connection_policy, pipeline_client, request, request_data, **kwargs)\u001b[0m\n\u001b[0;32m    208\u001b[0m \u001b[1;33m\u001b[0m\u001b[0m\n\u001b[0;32m    209\u001b[0m     \u001b[1;31m# Pass _Request function with it's parameters to retry_utility's Execute method that wraps the call with retries\u001b[0m\u001b[1;33m\u001b[0m\u001b[1;33m\u001b[0m\u001b[1;33m\u001b[0m\u001b[0m\n\u001b[1;32m--> 210\u001b[1;33m     return _retry_utility.Execute(\n\u001b[0m\u001b[0;32m    211\u001b[0m         \u001b[0mclient\u001b[0m\u001b[1;33m,\u001b[0m\u001b[1;33m\u001b[0m\u001b[1;33m\u001b[0m\u001b[0m\n\u001b[0;32m    212\u001b[0m         \u001b[0mglobal_endpoint_manager\u001b[0m\u001b[1;33m,\u001b[0m\u001b[1;33m\u001b[0m\u001b[1;33m\u001b[0m\u001b[0m\n",
      "\u001b[1;32m~\\anaconda3\\lib\\site-packages\\azure\\cosmos\\_retry_utility.py\u001b[0m in \u001b[0;36mExecute\u001b[1;34m(client, global_endpoint_manager, function, *args, **kwargs)\u001b[0m\n\u001b[0;32m     71\u001b[0m             \u001b[0mstart_time\u001b[0m \u001b[1;33m=\u001b[0m \u001b[0mtime\u001b[0m\u001b[1;33m.\u001b[0m\u001b[0mtime\u001b[0m\u001b[1;33m(\u001b[0m\u001b[1;33m)\u001b[0m\u001b[1;33m\u001b[0m\u001b[1;33m\u001b[0m\u001b[0m\n\u001b[0;32m     72\u001b[0m             \u001b[1;32mif\u001b[0m \u001b[0margs\u001b[0m\u001b[1;33m:\u001b[0m\u001b[1;33m\u001b[0m\u001b[1;33m\u001b[0m\u001b[0m\n\u001b[1;32m---> 73\u001b[1;33m                 \u001b[0mresult\u001b[0m \u001b[1;33m=\u001b[0m \u001b[0mExecuteFunction\u001b[0m\u001b[1;33m(\u001b[0m\u001b[0mfunction\u001b[0m\u001b[1;33m,\u001b[0m \u001b[0mglobal_endpoint_manager\u001b[0m\u001b[1;33m,\u001b[0m \u001b[1;33m*\u001b[0m\u001b[0margs\u001b[0m\u001b[1;33m,\u001b[0m \u001b[1;33m**\u001b[0m\u001b[0mkwargs\u001b[0m\u001b[1;33m)\u001b[0m\u001b[1;33m\u001b[0m\u001b[1;33m\u001b[0m\u001b[0m\n\u001b[0m\u001b[0;32m     74\u001b[0m             \u001b[1;32melse\u001b[0m\u001b[1;33m:\u001b[0m\u001b[1;33m\u001b[0m\u001b[1;33m\u001b[0m\u001b[0m\n\u001b[0;32m     75\u001b[0m                 \u001b[0mresult\u001b[0m \u001b[1;33m=\u001b[0m \u001b[0mExecuteFunction\u001b[0m\u001b[1;33m(\u001b[0m\u001b[0mfunction\u001b[0m\u001b[1;33m,\u001b[0m \u001b[1;33m*\u001b[0m\u001b[0margs\u001b[0m\u001b[1;33m,\u001b[0m \u001b[1;33m**\u001b[0m\u001b[0mkwargs\u001b[0m\u001b[1;33m)\u001b[0m\u001b[1;33m\u001b[0m\u001b[1;33m\u001b[0m\u001b[0m\n",
      "\u001b[1;32m~\\anaconda3\\lib\\site-packages\\azure\\cosmos\\_retry_utility.py\u001b[0m in \u001b[0;36mExecuteFunction\u001b[1;34m(function, *args, **kwargs)\u001b[0m\n\u001b[0;32m    128\u001b[0m     \"\"\"Stub method so that it can be used for mocking purposes as well.\n\u001b[0;32m    129\u001b[0m     \"\"\"\n\u001b[1;32m--> 130\u001b[1;33m     \u001b[1;32mreturn\u001b[0m \u001b[0mfunction\u001b[0m\u001b[1;33m(\u001b[0m\u001b[1;33m*\u001b[0m\u001b[0margs\u001b[0m\u001b[1;33m,\u001b[0m \u001b[1;33m**\u001b[0m\u001b[0mkwargs\u001b[0m\u001b[1;33m)\u001b[0m\u001b[1;33m\u001b[0m\u001b[1;33m\u001b[0m\u001b[0m\n\u001b[0m\u001b[0;32m    131\u001b[0m \u001b[1;33m\u001b[0m\u001b[0m\n\u001b[0;32m    132\u001b[0m \u001b[1;33m\u001b[0m\u001b[0m\n",
      "\u001b[1;32m~\\anaconda3\\lib\\site-packages\\azure\\cosmos\\_synchronized_request.py\u001b[0m in \u001b[0;36m_Request\u001b[1;34m(global_endpoint_manager, request_params, connection_policy, pipeline_client, request, **kwargs)\u001b[0m\n\u001b[0;32m    156\u001b[0m         \u001b[1;32mraise\u001b[0m \u001b[0mexceptions\u001b[0m\u001b[1;33m.\u001b[0m\u001b[0mCosmosAccessConditionFailedError\u001b[0m\u001b[1;33m(\u001b[0m\u001b[0mmessage\u001b[0m\u001b[1;33m=\u001b[0m\u001b[0mdata\u001b[0m\u001b[1;33m,\u001b[0m \u001b[0mresponse\u001b[0m\u001b[1;33m=\u001b[0m\u001b[0mresponse\u001b[0m\u001b[1;33m)\u001b[0m\u001b[1;33m\u001b[0m\u001b[1;33m\u001b[0m\u001b[0m\n\u001b[0;32m    157\u001b[0m     \u001b[1;32mif\u001b[0m \u001b[0mresponse\u001b[0m\u001b[1;33m.\u001b[0m\u001b[0mstatus_code\u001b[0m \u001b[1;33m>=\u001b[0m \u001b[1;36m400\u001b[0m\u001b[1;33m:\u001b[0m\u001b[1;33m\u001b[0m\u001b[1;33m\u001b[0m\u001b[0m\n\u001b[1;32m--> 158\u001b[1;33m         \u001b[1;32mraise\u001b[0m \u001b[0mexceptions\u001b[0m\u001b[1;33m.\u001b[0m\u001b[0mCosmosHttpResponseError\u001b[0m\u001b[1;33m(\u001b[0m\u001b[0mmessage\u001b[0m\u001b[1;33m=\u001b[0m\u001b[0mdata\u001b[0m\u001b[1;33m,\u001b[0m \u001b[0mresponse\u001b[0m\u001b[1;33m=\u001b[0m\u001b[0mresponse\u001b[0m\u001b[1;33m)\u001b[0m\u001b[1;33m\u001b[0m\u001b[1;33m\u001b[0m\u001b[0m\n\u001b[0m\u001b[0;32m    159\u001b[0m \u001b[1;33m\u001b[0m\u001b[0m\n\u001b[0;32m    160\u001b[0m     \u001b[0mresult\u001b[0m \u001b[1;33m=\u001b[0m \u001b[1;32mNone\u001b[0m\u001b[1;33m\u001b[0m\u001b[1;33m\u001b[0m\u001b[0m\n",
      "\u001b[1;31mCosmosHttpResponseError\u001b[0m: (BadRequest) Cross partition query is required but disabled. Please set x-ms-documentdb-query-enablecrosspartition to true, specify x-ms-documentdb-partitionkey, or revise your query to avoid this exception.\r\nActivityId: c5afcaab-2af8-4802-86d2-3d80c93aa958, Microsoft.Azure.Documents.Common/2.11.0"
     ]
    }
   ],
   "source": [
    "# Now lets try to query multiple documents \n",
    "\n",
    "\"\"\"\n",
    "Here i am trying to query items against two ids 0001 and 0002. since the collection is partitioned using id property, \n",
    "this query is going to get the results from multiple partitions\n",
    "\"\"\"\n",
    "\n",
    "sqlquery = \"select * from bakery b where b.id in ('0001','0002')\"\n",
    "for item in container_client.query_items(query=sqlquery, max_item_count=2):\n",
    "    print(json.dumps(item, indent=True))"
   ]
  },
  {
   "cell_type": "code",
   "execution_count": 43,
   "metadata": {},
   "outputs": [
    {
     "name": "stdout",
     "output_type": "stream",
     "text": [
      "{'id': '0001', 'type': 'donut', 'name': 'Cake', 'ppu': 0.55, 'batters': {'batter': [{'id': '1001', 'type': 'Regular'}, {'id': '1002', 'type': 'Chocolate'}, {'id': '1003', 'type': 'Blueberry'}, {'id': '1004', 'type': \"Devil's Food\"}]}, 'topping': [{'id': '5001', 'type': 'None'}, {'id': '5002', 'type': 'Glazed'}, {'id': '5005', 'type': 'Sugar'}, {'id': '5007', 'type': 'Powdered Sugar'}, {'id': '5006', 'type': 'Chocolate with Sprinkles'}, {'id': '5003', 'type': 'Chocolate'}, {'id': '5004', 'type': 'Maple'}], '_rid': 'YMQ3AI3g9zwBAAAAAAAAAA==', '_self': 'dbs/YMQ3AA==/colls/YMQ3AI3g9zw=/docs/YMQ3AI3g9zwBAAAAAAAAAA==/', '_etag': '\"d700583c-0000-0100-0000-5fe2399c0000\"', '_attachments': 'attachments/', '_ts': 1608661404}\n",
      "{'id': '0002', 'type': 'donut', 'name': 'Raised', 'ppu': 0.55, 'batters': {'batter': [{'id': '1001', 'type': 'Regular'}]}, 'topping': [{'id': '5001', 'type': 'None'}, {'id': '5002', 'type': 'Glazed'}, {'id': '5005', 'type': 'Sugar'}, {'id': '5003', 'type': 'Chocolate'}, {'id': '5004', 'type': 'Maple'}], '_rid': 'YMQ3AI3g9zwCAAAAAAAAAA==', '_self': 'dbs/YMQ3AA==/colls/YMQ3AI3g9zw=/docs/YMQ3AI3g9zwCAAAAAAAAAA==/', '_etag': '\"d7005b3c-0000-0100-0000-5fe2399c0000\"', '_attachments': 'attachments/', '_ts': 1608661404}\n"
     ]
    }
   ],
   "source": [
    "\"\"\"Above error says that cross partition is disabled as it is trying to get the items from multiple partitions\n",
    "lets resolve that by using a property while querying the items\n",
    "\"\"\"\n",
    "\n",
    "sqlquery = \"select * from bakery b where b.id in ('0001','0002')\"\n",
    "for item in container_client.query_items(query=sqlquery, max_item_count=2, enable_cross_partition_query=True):\n",
    "    print(item)\n"
   ]
  },
  {
   "cell_type": "code",
   "execution_count": 44,
   "metadata": {},
   "outputs": [
    {
     "data": {
      "text/plain": [
       "'2.97'"
      ]
     },
     "execution_count": 44,
     "metadata": {},
     "output_type": "execute_result"
    }
   ],
   "source": [
    "# Find the request units for retreiving one document as per the above step\n",
    "\n",
    "container_client.client_connection.last_response_headers['x-ms-request-charge']"
   ]
  },
  {
   "cell_type": "code",
   "execution_count": 45,
   "metadata": {},
   "outputs": [
    {
     "data": {
      "text/plain": [
       "'2.27'"
      ]
     },
     "execution_count": 45,
     "metadata": {},
     "output_type": "execute_result"
    }
   ],
   "source": [
    "# lets find the RUs of getting all the data\n",
    "\n",
    "sqlquery = \"select * from bakery b\"\n",
    "for item in container_client.query_items(query=sqlquery, max_item_count=2, enable_cross_partition_query=True):\n",
    "    pass\n",
    "\n",
    "container_client.client_connection.last_response_headers['x-ms-request-charge']"
   ]
  },
  {
   "cell_type": "code",
   "execution_count": null,
   "metadata": {},
   "outputs": [],
   "source": []
  },
  {
   "cell_type": "code",
   "execution_count": null,
   "metadata": {},
   "outputs": [],
   "source": [
    "\"\"\"\n",
    "Lets create another collection by using different partition combinations\n",
    "\"\"\""
   ]
  },
  {
   "cell_type": "code",
   "execution_count": 74,
   "metadata": {},
   "outputs": [],
   "source": [
    "# define the partition key\n",
    "\n",
    "partitonkey = PartitionKey(path='/batters/batter', kind='Hash')\n",
    "\n",
    "# create a new collection\n",
    "#database_client.delete_container('bakery_2')\n",
    "\n",
    "container_client_2 = database_client.create_container_if_not_exists(id='bakery_2', partition_key=partitonkey)"
   ]
  },
  {
   "cell_type": "code",
   "execution_count": 75,
   "metadata": {},
   "outputs": [
    {
     "name": "stdout",
     "output_type": "stream",
     "text": [
      "Documents have been populated in collection bakery2\n"
     ]
    }
   ],
   "source": [
    "# populate the collection\n",
    "\n",
    "for document in poc_data:\n",
    "    #print(document)\n",
    "    container_client_2.create_item(body=document)\n",
    "print(\"Documents have been populated in collection bakery2\")"
   ]
  },
  {
   "cell_type": "code",
   "execution_count": 119,
   "metadata": {},
   "outputs": [
    {
     "name": "stdout",
     "output_type": "stream",
     "text": [
      "{'id': '0001', 'type': 'donut', 'name': 'Cake', 'ppu': 0.55, 'batters': {'batter': [{'id': '1001', 'type': 'Regular'}, {'id': '1002', 'type': 'Chocolate'}, {'id': '1003', 'type': 'Blueberry'}, {'id': '1004', 'type': \"Devil's Food\"}]}, 'topping': [{'id': '5001', 'type': 'None'}, {'id': '5002', 'type': 'Glazed'}, {'id': '5005', 'type': 'Sugar'}, {'id': '5007', 'type': 'Powdered Sugar'}, {'id': '5006', 'type': 'Chocolate with Sprinkles'}, {'id': '5003', 'type': 'Chocolate'}, {'id': '5004', 'type': 'Maple'}], '_rid': 'YMQ3AJkTu7oBAAAAAAAAAA==', '_self': 'dbs/YMQ3AA==/colls/YMQ3AJkTu7o=/docs/YMQ3AJkTu7oBAAAAAAAAAA==/', '_etag': '\"da00f28c-0000-0100-0000-5fe24b4d0000\"', '_attachments': 'attachments/', '_ts': 1608665933}\n",
      "{'id': '0002', 'type': 'donut', 'name': 'Raised', 'ppu': 0.55, 'batters': {'batter': [{'id': '1001', 'type': 'Regular'}]}, 'topping': [{'id': '5001', 'type': 'None'}, {'id': '5002', 'type': 'Glazed'}, {'id': '5005', 'type': 'Sugar'}, {'id': '5003', 'type': 'Chocolate'}, {'id': '5004', 'type': 'Maple'}], '_rid': 'YMQ3AJkTu7oCAAAAAAAAAA==', '_self': 'dbs/YMQ3AA==/colls/YMQ3AJkTu7o=/docs/YMQ3AJkTu7oCAAAAAAAAAA==/', '_etag': '\"da00f58c-0000-0100-0000-5fe24b4d0000\"', '_attachments': 'attachments/', '_ts': 1608665933}\n",
      "\"2.97\"\n"
     ]
    }
   ],
   "source": [
    "# lets find the RUs of getting all the data\n",
    "\n",
    "sqlquery = \"select * from bakery2 b where b.id in ('0001','0002')\"\n",
    "for item in container_client_2.query_items(query=sqlquery, max_item_count=2, enable_cross_partition_query=True):\n",
    "    print(item)\n",
    "\n",
    "print(json.dumps(container_client_2.client_connection.last_response_headers['x-ms-request-charge'], indent=True))"
   ]
  },
  {
   "cell_type": "code",
   "execution_count": 82,
   "metadata": {},
   "outputs": [],
   "source": [
    "container_properties = container_client_2.read()"
   ]
  },
  {
   "cell_type": "code",
   "execution_count": 86,
   "metadata": {},
   "outputs": [
    {
     "name": "stdout",
     "output_type": "stream",
     "text": [
      "Indexing policy for the container : \n",
      " {\n",
      " \"indexingMode\": \"consistent\",\n",
      " \"automatic\": true,\n",
      " \"includedPaths\": [\n",
      "  {\n",
      "   \"path\": \"/*\"\n",
      "  }\n",
      " ],\n",
      " \"excludedPaths\": [\n",
      "  {\n",
      "   \"path\": \"/\\\"_etag\\\"/?\"\n",
      "  }\n",
      " ]\n",
      "}\n"
     ]
    }
   ],
   "source": [
    "print(\"Indexing policy for the container : \\n {}\".format(json.dumps(container_properties['indexingPolicy'], indent=True)))"
   ]
  },
  {
   "cell_type": "code",
   "execution_count": 116,
   "metadata": {},
   "outputs": [],
   "source": [
    "\"\"\"\n",
    "as we see in the above output, that every (/*) property in the document is indexed.\n",
    "lets exclude some nested structures from the indexing so that we can save some storage and cost\n",
    "\"\"\"\n",
    "\n",
    "Indexing_Policy_for_Bakery = {\n",
    "    \n",
    "    \"indexingMode\" : \"consistent\",\n",
    "    \"automatic\" : True,\n",
    "    \"includedPaths\" : [{\"path\" : \"/*\"}],\n",
    "    \"excludedPaths\" : [{\"path\" : \"/\\\"batters\\\"/*\"}]\n",
    "}"
   ]
  },
  {
   "cell_type": "code",
   "execution_count": 117,
   "metadata": {},
   "outputs": [],
   "source": [
    "# lets create another container with this indexing policy and try to query the nodes which are not indexed anymore\n",
    "\n",
    "database_client.delete_container('bakery_3')\n",
    "\n",
    "partitonkey = PartitionKey(path='/id', kind='Hash')\n",
    "container_client_3 = database_client.create_container_if_not_exists(\n",
    "    id='bakery_3', \n",
    "    partition_key=partitonkey,\n",
    "    indexing_policy=Indexing_Policy_for_Bakery\n",
    ")"
   ]
  },
  {
   "cell_type": "code",
   "execution_count": 118,
   "metadata": {},
   "outputs": [
    {
     "name": "stdout",
     "output_type": "stream",
     "text": [
      "Indexing policy for the container : \n",
      " {\n",
      " \"indexingMode\": \"consistent\",\n",
      " \"automatic\": true,\n",
      " \"includedPaths\": [\n",
      "  {\n",
      "   \"path\": \"/*\"\n",
      "  }\n",
      " ],\n",
      " \"excludedPaths\": [\n",
      "  {\n",
      "   \"path\": \"/\\\"batters\\\"/*\"\n",
      "  },\n",
      "  {\n",
      "   \"path\": \"/\\\"_etag\\\"/?\"\n",
      "  }\n",
      " ]\n",
      "}\n"
     ]
    }
   ],
   "source": [
    "container_properties = container_client_3.read()\n",
    "print(\"Indexing policy for the container : \\n {}\".format(json.dumps(container_properties['indexingPolicy'], indent=True)))"
   ]
  },
  {
   "cell_type": "code",
   "execution_count": null,
   "metadata": {},
   "outputs": [],
   "source": []
  }
 ],
 "metadata": {
  "kernelspec": {
   "display_name": "Python 3",
   "language": "python",
   "name": "python3"
  },
  "language_info": {
   "codemirror_mode": {
    "name": "ipython",
    "version": 3
   },
   "file_extension": ".py",
   "mimetype": "text/x-python",
   "name": "python",
   "nbconvert_exporter": "python",
   "pygments_lexer": "ipython3",
   "version": "3.8.3"
  }
 },
 "nbformat": 4,
 "nbformat_minor": 4
}
